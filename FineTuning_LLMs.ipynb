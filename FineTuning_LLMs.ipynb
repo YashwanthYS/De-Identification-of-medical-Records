{
 "cells": [
  {
   "cell_type": "markdown",
   "id": "b9c4d31a-948e-4040-8a55-2443c515ae73",
   "metadata": {},
   "source": [
    "### Summary\n",
    "\n",
    "This notebook handles the fine tuning of GPT-3.5 and PaLM LLM models. I have created a mini dataset from the original dataset in the format that is expected by the OpenAI and PaLM APIs to fine tune the LLMs."
   ]
  },
  {
   "cell_type": "code",
   "execution_count": null,
   "id": "cc03e287-8473-4878-b280-c1e5d0dc4c27",
   "metadata": {},
   "outputs": [],
   "source": [
    "!pip3 install openai\n",
    "!pip3 install numpy\n",
    "!pip3 install tiktoken\n",
    "!pip3 install Gradio"
   ]
  },
  {
   "cell_type": "code",
   "execution_count": 49,
   "id": "1ac2a066-c408-4f1e-bd18-050e204739c6",
   "metadata": {},
   "outputs": [],
   "source": [
    "import openai\n",
    "import csv\n",
    "import json\n",
    "import os\n",
    "import numpy as np\n",
    "from collections import defaultdict\n",
    "import tiktoken\n",
    "import gradio as gr\n",
    "import configparser"
   ]
  },
  {
   "cell_type": "code",
   "execution_count": 48,
   "id": "0cd37a2e-1e82-4f37-a8c6-e05d65b03f42",
   "metadata": {},
   "outputs": [],
   "source": [
    "#read API keys from config file\n",
    "config = configparser.ConfigParser()\n",
    "config.read('/Users/yashwanthys/Desktop/config.ini')\n",
    "openai.api_key = config['API_KEYS']['OPENAI_API_KEY']"
   ]
  },
  {
   "cell_type": "code",
   "execution_count": 39,
   "id": "75035fc9-cb02-437b-b8ca-7b11bb7fcbde",
   "metadata": {},
   "outputs": [],
   "source": [
    "# clean up the mini dataset and convert to jsonl format\n",
    "def convert_csv_to_jsonl(csv_file_path, jsonl_file_path):\n",
    "    cleaned_data = []\n",
    "\n",
    "    with open(csv_file_path, 'r', encoding='utf-8-sig') as file:\n",
    "        csv_reader = csv.reader(file)\n",
    "        for row in csv_reader:\n",
    "            for cell in row:\n",
    "                try:\n",
    "                    # Replace square brackets and inner double quotes that are problematic\n",
    "                    cell = cell.replace('[\"', '').replace('\"]', '').replace('\\\\\"', '\"')\n",
    "\n",
    "                    # Load each cell as a JSON object\n",
    "                    cell_json = json.loads(cell)\n",
    "\n",
    "                    # Now that the content is clean, append to cleaned_data list\n",
    "                    cleaned_data.append(cell_json)\n",
    "                except json.JSONDecodeError as e:\n",
    "                    print(f\"JSON decode error for cell '{cell}': {e}\")\n",
    "\n",
    "    # Write cleaned data to a JSONL file\n",
    "    with open(jsonl_file_path, 'w', encoding='utf-8') as jsonl_file:\n",
    "        for item in cleaned_data:\n",
    "            jsonl_file.write(json.dumps(item) + '\\n')\n",
    "\n",
    "    print(f\"Conversion complete. JSONL file created at '{jsonl_file_path}'.\")"
   ]
  },
  {
   "cell_type": "markdown",
   "id": "cde5695c-708c-4d7d-b115-dac250bf4f85",
   "metadata": {},
   "source": [
    "### Fine tuning of GPT-3.5 model with breif prompt"
   ]
  },
  {
   "cell_type": "code",
   "execution_count": 42,
   "id": "d018cc40-0915-461f-97b9-990d405be932",
   "metadata": {},
   "outputs": [
    {
     "name": "stdout",
     "output_type": "stream",
     "text": [
      "Conversion complete. JSONL file created at '/Users/yashwanthys/PersonalProjects/ML_Proj/De-Identification/fine_tuning/TestFineTune.jsonl'.\n",
      "Conversion complete. JSONL file created at '/Users/yashwanthys/PersonalProjects/ML_Proj/De-Identification/fine_tuning/Validate.jsonl'.\n"
     ]
    }
   ],
   "source": [
    "#convert the cleaned up training and validation datasets in csv format to jsonl format\n",
    "briefprompt_training_file_path = '/Users/yashwanthys/PersonalProjects/ML_Proj/De-Identification/fine_tuning/TestFineTune.csv'\n",
    "breifprompt_jsonl_training_file_path = '/Users/yashwanthys/PersonalProjects/ML_Proj/De-Identification/fine_tuning/TestFineTune.jsonl'\n",
    "briefprompt_validation_file_path = '/Users/yashwanthys/PersonalProjects/ML_Proj/De-Identification/fine_tuning/Validate.csv'\n",
    "breifprompt_jsonl_validation_file_path = '/Users/yashwanthys/PersonalProjects/ML_Proj/De-Identification/fine_tuning/Validate.jsonl'\n",
    "convert_csv_to_jsonl(briefprompt_training_file_path, breifprompt_jsonl_training_file_path)\n",
    "convert_csv_to_jsonl(briefprompt_validation_file_path, breifprompt_jsonl_validation_file_path)"
   ]
  },
  {
   "cell_type": "code",
   "execution_count": 44,
   "id": "0eadc02c-2a5f-40bd-807e-09f64e1f1110",
   "metadata": {},
   "outputs": [
    {
     "name": "stdout",
     "output_type": "stream",
     "text": [
      "Training file id: file-bNOA26nA1fBN8SD4XAYPr5Yf\n"
     ]
    }
   ],
   "source": [
    "#Upload data for training\n",
    "\n",
    "training_response = openai.File.create(\n",
    "    file=open(breifprompt_jsonl_training_file_path, \"rb\"), purpose=\"fine-tune\"\n",
    ")\n",
    "training_file_id = training_response[\"id\"]\n",
    "\n",
    "#Gives training file id\n",
    "print(\"Training file id:\", training_file_id)"
   ]
  },
  {
   "cell_type": "code",
   "execution_count": 43,
   "id": "9155c98d-6d2c-46a0-80f2-554f6841f9de",
   "metadata": {},
   "outputs": [
    {
     "name": "stdout",
     "output_type": "stream",
     "text": [
      "Validation file id: file-Nc5xQOVOMJeXgNE8OTTk9O2t\n"
     ]
    }
   ],
   "source": [
    "#Upload data for training\n",
    "\n",
    "validation_response = openai.File.create(\n",
    "    file=open(breifprompt_jsonl_validation_file_path, \"rb\"), purpose=\"fine-tune\"\n",
    ")\n",
    "validation_file_id = training_response[\"id\"]\n",
    "\n",
    "#Gives training file id\n",
    "print(\"Validation file id:\", validation_file_id)"
   ]
  },
  {
   "cell_type": "code",
   "execution_count": 51,
   "id": "b9dda0e8-f88a-435c-86ad-fbe59aac6757",
   "metadata": {},
   "outputs": [
    {
     "name": "stdout",
     "output_type": "stream",
     "text": [
      "{\n",
      "  \"object\": \"fine_tuning.job\",\n",
      "  \"id\": \"ftjob-E3Ha3XDcNDBaHaEck785c2yB\",\n",
      "  \"model\": \"gpt-3.5-turbo-0613\",\n",
      "  \"created_at\": 1699266149,\n",
      "  \"finished_at\": null,\n",
      "  \"fine_tuned_model\": null,\n",
      "  \"organization_id\": \"org-y9pJa2gk1YU06Wi6jGNSdSWm\",\n",
      "  \"result_files\": [],\n",
      "  \"status\": \"validating_files\",\n",
      "  \"validation_file\": \"file-Nc5xQOVOMJeXgNE8OTTk9O2t\",\n",
      "  \"training_file\": \"file-bNOA26nA1fBN8SD4XAYPr5Yf\",\n",
      "  \"hyperparameters\": {\n",
      "    \"n_epochs\": 3\n",
      "  },\n",
      "  \"trained_tokens\": null,\n",
      "  \"error\": null\n",
      "}\n"
     ]
    }
   ],
   "source": [
    "#Create Fine-Tuning Job\n",
    "suffix_name = \"briefprompt-deid2\"\n",
    "\n",
    "response = openai.FineTuningJob.create(\n",
    "    training_file=training_file_id,\n",
    "    validation_file=validation_file_id,\n",
    "    model=\"gpt-3.5-turbo\",\n",
    "    suffix=suffix_name,\n",
    "    hyperparameters={\"n_epochs\":3}\n",
    ")\n",
    "\n",
    "job_id = response[\"id\"]\n",
    "\n",
    "print(response)"
   ]
  },
  {
   "cell_type": "code",
   "execution_count": 53,
   "id": "674638c0-624e-4fb6-94a3-edce8ccf67c4",
   "metadata": {},
   "outputs": [
    {
     "name": "stdout",
     "output_type": "stream",
     "text": [
      "Step 43/90: training loss=0.01, validation loss=0.00\n",
      "Step 44/90: training loss=0.00, validation loss=0.00\n",
      "Step 45/90: training loss=0.00, validation loss=0.02\n",
      "Step 46/90: training loss=0.00, validation loss=0.00\n",
      "Step 47/90: training loss=0.00, validation loss=0.00\n",
      "Step 48/90: training loss=0.01, validation loss=0.00\n",
      "Step 49/90: training loss=0.01, validation loss=0.01\n",
      "Step 50/90: training loss=0.01, validation loss=0.00\n",
      "Step 51/90: training loss=0.00, validation loss=0.00\n",
      "Step 52/90: training loss=0.00, validation loss=0.00\n",
      "Step 53/90: training loss=0.00, validation loss=0.00\n",
      "Step 54/90: training loss=0.00, validation loss=0.00\n",
      "Step 55/90: training loss=0.01, validation loss=0.00\n",
      "Step 56/90: training loss=0.00, validation loss=0.00\n",
      "Step 57/90: training loss=0.02, validation loss=0.00\n",
      "Step 58/90: training loss=0.00, validation loss=0.00\n",
      "Step 59/90: training loss=0.00, validation loss=0.00\n",
      "Step 60/90: training loss=0.00, validation loss=0.00\n",
      "Step 61/90: training loss=0.00, validation loss=0.01\n",
      "Step 62/90: training loss=0.00, validation loss=0.00\n",
      "Step 63/90: training loss=0.00, validation loss=0.00\n",
      "Step 64/90: training loss=0.00, validation loss=0.00\n",
      "Step 65/90: training loss=0.00, validation loss=0.00\n",
      "Step 66/90: training loss=0.00, validation loss=0.00\n",
      "Step 67/90: training loss=0.00, validation loss=0.00\n",
      "Step 68/90: training loss=0.00, validation loss=0.00\n",
      "Step 69/90: training loss=0.00, validation loss=0.01\n",
      "Step 70/90: training loss=0.00, validation loss=0.00\n",
      "Step 71/90: training loss=0.01, validation loss=0.00\n",
      "Step 72/90: training loss=0.00, validation loss=0.00\n",
      "Step 73/90: training loss=0.00, validation loss=0.00\n",
      "Step 74/90: training loss=0.00, validation loss=0.00\n",
      "Step 75/90: training loss=0.00, validation loss=0.02\n",
      "Step 76/90: training loss=0.00, validation loss=0.00\n",
      "Step 77/90: training loss=0.00, validation loss=0.00\n",
      "Step 78/90: training loss=0.00, validation loss=0.00\n",
      "Step 79/90: training loss=0.00, validation loss=0.00\n",
      "Step 80/90: training loss=0.02, validation loss=0.00\n",
      "Step 81/90: training loss=0.00, validation loss=0.00\n",
      "Step 82/90: training loss=0.00, validation loss=0.00\n",
      "Step 83/90: training loss=0.00, validation loss=0.00\n",
      "Step 84/90: training loss=0.00, validation loss=0.00\n",
      "Step 85/90: training loss=0.01, validation loss=0.00\n",
      "Step 86/90: training loss=0.00, validation loss=0.00\n",
      "Step 87/90: training loss=0.00, validation loss=0.00\n",
      "Step 88/90: training loss=0.00, validation loss=0.00\n",
      "Step 89/90: training loss=0.00, validation loss=0.00\n",
      "Step 90/90: training loss=0.00, validation loss=0.00\n",
      "New fine-tuned model created: ft:gpt-3.5-turbo-0613:personal:briefprompt-deid2:8Hr8yYi1\n",
      "The job has successfully completed\n"
     ]
    }
   ],
   "source": [
    "#list events as fine-tuning progresses\n",
    "response = openai.FineTuningJob.list_events(id=job_id, limit=50)\n",
    "\n",
    "events = response[\"data\"]\n",
    "events.reverse()\n",
    "\n",
    "for event in events:\n",
    "    print(event[\"message\"])"
   ]
  },
  {
   "cell_type": "code",
   "execution_count": 54,
   "id": "9651ffbc-f256-4631-ab16-8919e376d950",
   "metadata": {},
   "outputs": [
    {
     "name": "stdout",
     "output_type": "stream",
     "text": [
      "{\n",
      "  \"object\": \"fine_tuning.job\",\n",
      "  \"id\": \"ftjob-E3Ha3XDcNDBaHaEck785c2yB\",\n",
      "  \"model\": \"gpt-3.5-turbo-0613\",\n",
      "  \"created_at\": 1699266149,\n",
      "  \"finished_at\": 1699266551,\n",
      "  \"fine_tuned_model\": \"ft:gpt-3.5-turbo-0613:personal:briefprompt-deid2:8Hr8yYi1\",\n",
      "  \"organization_id\": \"org-y9pJa2gk1YU06Wi6jGNSdSWm\",\n",
      "  \"result_files\": [\n",
      "    \"file-pDHg2n7rMCjxHg9MprvJzjqh\"\n",
      "  ],\n",
      "  \"status\": \"succeeded\",\n",
      "  \"validation_file\": \"file-Nc5xQOVOMJeXgNE8OTTk9O2t\",\n",
      "  \"training_file\": \"file-bNOA26nA1fBN8SD4XAYPr5Yf\",\n",
      "  \"hyperparameters\": {\n",
      "    \"n_epochs\": 3\n",
      "  },\n",
      "  \"trained_tokens\": 130947,\n",
      "  \"error\": null\n",
      "}\n",
      "\n",
      "Fine-tuned model id: ft:gpt-3.5-turbo-0613:personal:briefprompt-deid2:8Hr8yYi1\n"
     ]
    }
   ],
   "source": [
    "#retrieve fine-tune model id\n",
    "response = openai.FineTuningJob.retrieve(job_id)\n",
    "fine_tuned_model_id = response[\"fine_tuned_model\"]\n",
    "\n",
    "print(response)\n",
    "print(\"\\nFine-tuned model id:\", fine_tuned_model_id)"
   ]
  },
  {
   "cell_type": "code",
   "execution_count": 63,
   "id": "d486832a-4fba-4fa8-a9d0-ec4f0ac6a5cf",
   "metadata": {},
   "outputs": [
    {
     "name": "stdout",
     "output_type": "stream",
     "text": [
      "[{'role': 'system', 'content': 'Task: Please anonymize the following clinical note. Replace all the Protected health information (PHI) text with the [censored].'}, {'role': 'user', 'content': 'Record date: 2069-04-07\\n\\nMr. Villegas is seen today.  I have not seen him since November. \\nAbout three weeks ago he stopped his Prednisone on his own because\\nhe was gaining weight.  He does feel that his shoulders are\\ndefinitely improved.  It is unclear what he is actually taking, but\\nI think based on the color of his pills and the timing of the\\nmedication that he continues taking his Atenolol for hypertension\\nand 1 Hydroxychloroquine tablet.  He is concerned because of the\\nrelatively recent onset of difficulties turning his head to the\\nright.  When he does this, he will note that he feels as though he\\nis going to pass out although this has not actually happened.  This\\nonly occurs when he turns to the right and not to the left.  He has\\nno visual changes otherwise and denies any headache or other\\ncranial complaints.  \\n \\nOn examination today, BP 120/80.  He has no bruits over the\\ncarotid.  He has no tenderness in this region either.  He has good\\nperipheral pulses at the arms.  His joint examination is much\\nimproved with better ROM of the shoulders and no peripheral joint\\nsynovitis.  \\n \\nClinical Impression:\\n \\n#1:  Inflammatory arthritis - possibly RA - with response noted to\\nHydroxychloroquine along with Prednisone.  He has stopped the\\nPrednisone, and I would not restart it yet.  \\n \\n#2:  New onset of symptoms suspicious for right-sided carotid\\ndisease.  Will arrange for carotid ultrasound studies.  Patient\\nadvised to call me if he develops any worsening symptoms.  He has\\nbeen taking 1 aspirin per day prophylaxis long-term, and I stressed\\nthat he continue to do so.  He will follow-up with me shortly after\\nthe ultrasound study.\\n \\n \\n \\nXzavian G. Tavares, M.D.\\nXGT:holmes\\n \\nDD: 04/07/69\\nDT: 04/15/69\\nDV: 04/07/69\\n ******** Approved but not reviewed by Attending Provider ******** '}]\n"
     ]
    }
   ],
   "source": [
    "# Sample testing of fine tuned model\n",
    "test_messages = []\n",
    "\n",
    "system_message = \"Task: Please anonymize the following clinical note. Replace all the Protected health information (PHI) text with the [censored].\"\n",
    "test_messages.append({\"role\": \"system\", \"content\": system_message})\n",
    "user_message = '''Record date: 2069-04-07\n",
    "\n",
    "Mr. Villegas is seen today.  I have not seen him since November. \n",
    "About three weeks ago he stopped his Prednisone on his own because\n",
    "he was gaining weight.  He does feel that his shoulders are\n",
    "definitely improved.  It is unclear what he is actually taking, but\n",
    "I think based on the color of his pills and the timing of the\n",
    "medication that he continues taking his Atenolol for hypertension\n",
    "and 1 Hydroxychloroquine tablet.  He is concerned because of the\n",
    "relatively recent onset of difficulties turning his head to the\n",
    "right.  When he does this, he will note that he feels as though he\n",
    "is going to pass out although this has not actually happened.  This\n",
    "only occurs when he turns to the right and not to the left.  He has\n",
    "no visual changes otherwise and denies any headache or other\n",
    "cranial complaints.  \n",
    " \n",
    "On examination today, BP 120/80.  He has no bruits over the\n",
    "carotid.  He has no tenderness in this region either.  He has good\n",
    "peripheral pulses at the arms.  His joint examination is much\n",
    "improved with better ROM of the shoulders and no peripheral joint\n",
    "synovitis.  \n",
    " \n",
    "Clinical Impression:\n",
    " \n",
    "#1:  Inflammatory arthritis - possibly RA - with response noted to\n",
    "Hydroxychloroquine along with Prednisone.  He has stopped the\n",
    "Prednisone, and I would not restart it yet.  \n",
    " \n",
    "#2:  New onset of symptoms suspicious for right-sided carotid\n",
    "disease.  Will arrange for carotid ultrasound studies.  Patient\n",
    "advised to call me if he develops any worsening symptoms.  He has\n",
    "been taking 1 aspirin per day prophylaxis long-term, and I stressed\n",
    "that he continue to do so.  He will follow-up with me shortly after\n",
    "the ultrasound study.\n",
    " \n",
    " \n",
    " \n",
    "Xzavian G. Tavares, M.D.\n",
    "XGT:holmes\n",
    " \n",
    "DD: 04/07/69\n",
    "DT: 04/15/69\n",
    "DV: 04/07/69\n",
    " ******** Approved but not reviewed by Attending Provider ******** '''\n",
    "test_messages.append({\"role\": \"user\", \"content\": user_message})\n",
    "\n",
    "print(test_messages)"
   ]
  },
  {
   "cell_type": "code",
   "execution_count": 65,
   "id": "c3d70acd-0cab-4f47-a2d2-a2e75e963050",
   "metadata": {},
   "outputs": [
    {
     "name": "stdout",
     "output_type": "stream",
     "text": [
      "\n",
      "Record date: [censored]\n",
      "\n",
      "Mr. [censored] is seen today.  I have not seen him since [censored]. \n",
      "About three weeks ago he stopped his Prednisone on his own because\n",
      "he was gaining weight.  He does feel that his shoulders are\n",
      "definitely improved.  It is unclear what he is actually taking, but\n",
      "I think based on the color of his pills and the timing of the\n",
      "medication that he continues taking his Atenolol for hypertension\n",
      "and 1 Hydroxychloroquine tablet.  He is concerned because of the\n",
      "relatively recent onset of difficulties turning his head to the\n",
      "right.  When he does this, he will note that he feels as though he\n",
      "is going to pass out although this has not actually happened.  This\n",
      "only occurs when he turns to the right and not to the left.  He has\n",
      "no visual changes otherwise and denies any headache or other\n",
      "cranial complaints.  \n",
      " \n",
      "On examination today, BP 120/80.  He has no bruits over the\n",
      "carotid.  He has no tenderness in this region either.  He has good\n",
      "peripheral pulses at the arms.  His joint examination is much\n",
      "improved with better ROM of the shoulders and no peripheral joint\n",
      "synovitis.  \n",
      " \n",
      "Clinical Impression:\n",
      " \n",
      "#1:  Inflammatory arthritis - possibly RA - with response noted to\n",
      "Hydroxychloroquine along with Prednisone.  He has stopped the\n",
      "Prednisone, and I would not restart it yet.  \n",
      " \n",
      "#2:  New onset of symptoms suspicious for right-sided carotid\n",
      "disease.  Will arrange for carotid ultrasound studies.  Patient\n",
      "advised to call me if he develops any worsening symptoms.  He has\n",
      "been taking 1 aspirin per day prophylaxis long-term, and I stressed\n",
      "that he continue to do so.  He will follow-up with me shortly after\n",
      "the ultrasound study.\n",
      " \n",
      " \n",
      " \n",
      "[censored], M.D.\n",
      "[censored]\n",
      " \n",
      "DD: [censored]\n",
      "DT: [censored]\n",
      "DV: [censored]\n",
      " ******** Approved but not reviewed by Attending Provider ******** \n"
     ]
    }
   ],
   "source": [
    "response = openai.ChatCompletion.create(\n",
    "    model=fine_tuned_model_id, #can test it against gpt-3.5-turbo to see difference\n",
    "    messages=test_messages,\n",
    "    temperature=0.05,\n",
    ")\n",
    "print(response[\"choices\"][0][\"message\"][\"content\"])"
   ]
  },
  {
   "cell_type": "markdown",
   "id": "ae71071c-48ff-4fdc-bbd4-09a393989cd6",
   "metadata": {},
   "source": [
    "### Fine tuning GPT-3.5 model with detailed prompts"
   ]
  },
  {
   "cell_type": "code",
   "execution_count": 68,
   "id": "6cbdcc36-8e81-4a80-9150-54244586594a",
   "metadata": {},
   "outputs": [
    {
     "name": "stdout",
     "output_type": "stream",
     "text": [
      "Conversion complete. JSONL file created at '/Users/yashwanthys/PersonalProjects/ML_Proj/De-Identification/fine_tuning/TestFineTune_detailed.jsonl'.\n",
      "Conversion complete. JSONL file created at '/Users/yashwanthys/PersonalProjects/ML_Proj/De-Identification/fine_tuning/Validate_detailed.jsonl'.\n"
     ]
    }
   ],
   "source": [
    "#convert the cleaned up training and validation datasets in csv format to jsonl format\n",
    "detailedprompt_training_file_path = '/Users/yashwanthys/PersonalProjects/ML_Proj/De-Identification/fine_tuning/TestFineTune_detailed.csv'\n",
    "detailedprompt_jsonl_training_file_path = '/Users/yashwanthys/PersonalProjects/ML_Proj/De-Identification/fine_tuning/TestFineTune_detailed.jsonl'\n",
    "detailedprompt_validation_file_path = '/Users/yashwanthys/PersonalProjects/ML_Proj/De-Identification/fine_tuning/Validate_detailed.csv'\n",
    "detailedprompt_jsonl_validation_file_path = '/Users/yashwanthys/PersonalProjects/ML_Proj/De-Identification/fine_tuning/Validate_detailed.jsonl'\n",
    "convert_csv_to_jsonl(detailedprompt_training_file_path, detailedprompt_jsonl_training_file_path)\n",
    "convert_csv_to_jsonl(detailedprompt_validation_file_path, detailedprompt_jsonl_validation_file_path)"
   ]
  },
  {
   "cell_type": "code",
   "execution_count": 75,
   "id": "f5438430-f993-4413-b845-5c65599aa68e",
   "metadata": {},
   "outputs": [
    {
     "name": "stdout",
     "output_type": "stream",
     "text": [
      "Training file id: file-mgtyQOZSModYOT0d4NaeaS1W\n"
     ]
    }
   ],
   "source": [
    "#Upload data for training\n",
    "\n",
    "training_response = openai.File.create(\n",
    "    file=open(detailedprompt_jsonl_training_file_path, \"rb\"), purpose=\"fine-tune\"\n",
    ")\n",
    "training_file_id = training_response[\"id\"]\n",
    "\n",
    "#Gives training file id\n",
    "print(\"Training file id:\", training_file_id)"
   ]
  },
  {
   "cell_type": "code",
   "execution_count": 74,
   "id": "5ba5dfa6-d162-4f59-ad0d-42857345da6f",
   "metadata": {},
   "outputs": [
    {
     "name": "stdout",
     "output_type": "stream",
     "text": [
      "Validation file id: file-g0AqQODugJFUcwf1c1gfACMa\n"
     ]
    }
   ],
   "source": [
    "#Upload data for training\n",
    "\n",
    "validation_response = openai.File.create(\n",
    "    file=open(detailedprompt_jsonl_validation_file_path, \"rb\"), purpose=\"fine-tune\"\n",
    ")\n",
    "validation_file_id = training_response[\"id\"]\n",
    "\n",
    "#Gives training file id\n",
    "print(\"Validation file id:\", validation_file_id)"
   ]
  },
  {
   "cell_type": "code",
   "execution_count": 76,
   "id": "22f69056-4c92-4050-b593-d5fc2e6ae47f",
   "metadata": {},
   "outputs": [
    {
     "name": "stdout",
     "output_type": "stream",
     "text": [
      "{\n",
      "  \"object\": \"fine_tuning.job\",\n",
      "  \"id\": \"ftjob-daEfytwWqIDmMuTZ6hXJdI9i\",\n",
      "  \"model\": \"gpt-3.5-turbo-0613\",\n",
      "  \"created_at\": 1699301580,\n",
      "  \"finished_at\": null,\n",
      "  \"fine_tuned_model\": null,\n",
      "  \"organization_id\": \"org-y9pJa2gk1YU06Wi6jGNSdSWm\",\n",
      "  \"result_files\": [],\n",
      "  \"status\": \"validating_files\",\n",
      "  \"validation_file\": \"file-g0AqQODugJFUcwf1c1gfACMa\",\n",
      "  \"training_file\": \"file-mgtyQOZSModYOT0d4NaeaS1W\",\n",
      "  \"hyperparameters\": {\n",
      "    \"n_epochs\": 5\n",
      "  },\n",
      "  \"trained_tokens\": null,\n",
      "  \"error\": null\n",
      "}\n"
     ]
    }
   ],
   "source": [
    "#Create Fine-Tuning Job\n",
    "suffix_name = \"detailedpromptdeid\"\n",
    "\n",
    "response = openai.FineTuningJob.create(\n",
    "    training_file=training_file_id,\n",
    "    validation_file=validation_file_id,\n",
    "    model=\"gpt-3.5-turbo\",\n",
    "    suffix=suffix_name,\n",
    "    hyperparameters={\"n_epochs\":5}\n",
    ")\n",
    "\n",
    "job_id = response[\"id\"]\n",
    "\n",
    "print(response)"
   ]
  },
  {
   "cell_type": "code",
   "execution_count": 77,
   "id": "47d84fbc-abaa-40a1-b2ac-4a475f275e31",
   "metadata": {},
   "outputs": [
    {
     "name": "stdout",
     "output_type": "stream",
     "text": [
      "Created fine-tuning job: ftjob-daEfytwWqIDmMuTZ6hXJdI9i\n",
      "Validating training file: file-mgtyQOZSModYOT0d4NaeaS1W and validation file: file-g0AqQODugJFUcwf1c1gfACMa\n",
      "Files validated, moving job to queued state\n",
      "Fine-tuning job started\n",
      "Step 1/150: training loss=0.05, validation loss=0.05\n",
      "Step 11/150: training loss=0.03, validation loss=0.03\n",
      "Step 21/150: training loss=0.03, validation loss=0.00\n",
      "Step 31/150: training loss=0.01, validation loss=0.00\n",
      "Step 41/150: training loss=0.00, validation loss=0.00\n",
      "Step 51/150: training loss=0.03, validation loss=0.00\n",
      "Step 61/150: training loss=0.01, validation loss=0.00\n",
      "Step 71/150: training loss=0.00, validation loss=0.00\n",
      "Step 81/150: training loss=0.00, validation loss=0.00\n",
      "Step 91/150: training loss=0.00, validation loss=0.00\n",
      "Step 101/150: training loss=0.00, validation loss=0.00\n",
      "Step 111/150: training loss=0.00, validation loss=0.00\n",
      "Step 121/150: training loss=0.00, validation loss=0.00\n",
      "Step 131/150: training loss=0.00, validation loss=0.00\n",
      "Step 141/150: training loss=0.00, validation loss=0.01\n",
      "New fine-tuned model created: ft:gpt-3.5-turbo-0613:personal:detailedpromptdeid:8I0NZ50z\n",
      "The job has successfully completed\n"
     ]
    }
   ],
   "source": [
    "#list events as fine-tuning progresses\n",
    "response = openai.FineTuningJob.list_events(id=job_id, limit=50)\n",
    "\n",
    "events = response[\"data\"]\n",
    "events.reverse()\n",
    "\n",
    "for event in events:\n",
    "    print(event[\"message\"])"
   ]
  },
  {
   "cell_type": "code",
   "execution_count": 78,
   "id": "41d223b6-cd7d-4724-bd49-dac13174f4b2",
   "metadata": {},
   "outputs": [
    {
     "name": "stdout",
     "output_type": "stream",
     "text": [
      "{\n",
      "  \"object\": \"fine_tuning.job\",\n",
      "  \"id\": \"ftjob-daEfytwWqIDmMuTZ6hXJdI9i\",\n",
      "  \"model\": \"gpt-3.5-turbo-0613\",\n",
      "  \"created_at\": 1699301580,\n",
      "  \"finished_at\": 1699302051,\n",
      "  \"fine_tuned_model\": \"ft:gpt-3.5-turbo-0613:personal:detailedpromptdeid:8I0NZ50z\",\n",
      "  \"organization_id\": \"org-y9pJa2gk1YU06Wi6jGNSdSWm\",\n",
      "  \"result_files\": [\n",
      "    \"file-aqoJvg6Se55TnEwr0PJcfvrN\"\n",
      "  ],\n",
      "  \"status\": \"succeeded\",\n",
      "  \"validation_file\": \"file-g0AqQODugJFUcwf1c1gfACMa\",\n",
      "  \"training_file\": \"file-mgtyQOZSModYOT0d4NaeaS1W\",\n",
      "  \"hyperparameters\": {\n",
      "    \"n_epochs\": 5,\n",
      "    \"batch_size\": 1,\n",
      "    \"learning_rate_multiplier\": 2\n",
      "  },\n",
      "  \"trained_tokens\": 221995,\n",
      "  \"error\": null\n",
      "}\n",
      "\n",
      "Fine-tuned model id: ft:gpt-3.5-turbo-0613:personal:detailedpromptdeid:8I0NZ50z\n"
     ]
    }
   ],
   "source": [
    "#retrieve fine-tune model id\n",
    "response = openai.FineTuningJob.retrieve(job_id)\n",
    "fine_tuned_model_id = response[\"fine_tuned_model\"]\n",
    "\n",
    "print(response)\n",
    "print(\"\\nFine-tuned model id:\", fine_tuned_model_id)"
   ]
  },
  {
   "cell_type": "code",
   "execution_count": null,
   "id": "507793b7-e520-449d-ba88-baa7b9d18bb3",
   "metadata": {},
   "outputs": [],
   "source": []
  }
 ],
 "metadata": {
  "kernelspec": {
   "display_name": "Python 3 (ipykernel)",
   "language": "python",
   "name": "python3"
  },
  "language_info": {
   "codemirror_mode": {
    "name": "ipython",
    "version": 3
   },
   "file_extension": ".py",
   "mimetype": "text/x-python",
   "name": "python",
   "nbconvert_exporter": "python",
   "pygments_lexer": "ipython3",
   "version": "3.8.10"
  }
 },
 "nbformat": 4,
 "nbformat_minor": 5
}
